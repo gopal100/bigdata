{
 "cells": [
  {
   "cell_type": "raw",
   "id": "270c4882-24ed-4192-be6e-458deb2629d0",
   "metadata": {},
   "source": [
    "List_remove_append\n",
    "Description: Remove SPSS from input_list=['SAS', 'R', 'PYTHON', 'SPSS'] and add 'SPARK'\n",
    "in its place."
   ]
  },
  {
   "cell_type": "code",
   "execution_count": 3,
   "id": "67adcf72-b0a7-4ea1-ad0e-ef1f72e3377b",
   "metadata": {},
   "outputs": [
    {
     "name": "stdout",
     "output_type": "stream",
     "text": [
      "['SAS', 'R', 'PYTHON', 'SPSS']\n",
      "['SAS', 'R', 'PYTHON', 'SPARK']\n"
     ]
    }
   ],
   "source": [
    "list = ['SAS', 'R', 'PYTHON', 'SPSS']\n",
    "print(list)\n",
    "list.remove('SPSS')\n",
    "list.append('SPARK')\n",
    "print(list)"
   ]
  },
  {
   "cell_type": "markdown",
   "id": "dfc0dc88-fa35-49a5-bb17-1572e01237ae",
   "metadata": {},
   "source": [
    "String to List Conversion\n",
    "Description: Convert a string input_str = 'I love Data Science & Python' to a list by\n",
    "splitting it on ‘&’. The sample output for this string will be:"
   ]
  },
  {
   "cell_type": "code",
   "execution_count": 4,
   "id": "8f9c3cb1-1865-4aee-9f18-554684bf0c91",
   "metadata": {},
   "outputs": [
    {
     "name": "stdout",
     "output_type": "stream",
     "text": [
      "['I love Data Science ', ' Python']\n"
     ]
    }
   ],
   "source": [
    "input_str='I love Data Science & Python'\n",
    "split_arr=input_str.split('&')\n",
    "print(split_arr)"
   ]
  },
  {
   "cell_type": "raw",
   "id": "7bf9beef-fd78-4a32-aead-20c80691eb32",
   "metadata": {},
   "source": [
    "List to String Conversion\n",
    "Description: Convert a list ['Pythons syntax is easy to learn', 'Pythons syntax is very\n",
    "clear'] to a string using ‘&’. The sample output of this string will be:"
   ]
  },
  {
   "cell_type": "code",
   "execution_count": 18,
   "id": "c9b681d5-d2de-4be4-bd2b-11979db15a7f",
   "metadata": {},
   "outputs": [
    {
     "name": "stdout",
     "output_type": "stream",
     "text": [
      "Pythons syntax is easy to learn & Pythons syntax is very clear\n"
     ]
    }
   ],
   "source": [
    "input_list= ['Pythons syntax is easy to learn', 'Pythons syntax is very clear']\n",
    "output=''\n",
    "for st in input_list:\n",
    "    output+=st + ' ' + '& '\n",
    "\n",
    "#to remove & at the end\n",
    "output = output[0:len(output)-3]\n",
    "print(output)"
   ]
  },
  {
   "cell_type": "raw",
   "id": "3ad277f1-fa61-4b43-a17b-835098b68911",
   "metadata": {},
   "source": [
    "Description: Extract Python from a nested list\n",
    "input_list = [['SAS','R'],['Tableau','SQL'],['Python','Java']]"
   ]
  },
  {
   "cell_type": "code",
   "execution_count": 23,
   "id": "6bf205f5-a1cb-4bd4-9f13-80b794ed4433",
   "metadata": {},
   "outputs": [
    {
     "data": {
      "text/plain": [
       "'Python'"
      ]
     },
     "execution_count": 23,
     "metadata": {},
     "output_type": "execute_result"
    }
   ],
   "source": [
    "input_list = [['SAS','R'],['Tableau','SQL'],['Python','Java']]\n",
    "input_list[2][0]"
   ]
  },
  {
   "cell_type": "raw",
   "id": "456a9480-836c-4b78-95f2-c91d893a6aef",
   "metadata": {},
   "source": [
    "Description: t = (\"disco\", 12, 4.5)\n",
    "What is the output of: t[0][2]"
   ]
  },
  {
   "cell_type": "code",
   "execution_count": 26,
   "id": "8ecff11a-059a-45ee-9cda-fab5100905f4",
   "metadata": {},
   "outputs": [
    {
     "data": {
      "text/plain": [
       "'s'"
      ]
     },
     "execution_count": 26,
     "metadata": {},
     "output_type": "execute_result"
    }
   ],
   "source": [
    "t = (\"disco\", 12, 4.5)\n",
    "t[0][2]"
   ]
  },
  {
   "cell_type": "raw",
   "id": "c9a2c437-81f8-459e-9afc-a78e00cba2d6",
   "metadata": {},
   "source": [
    "String Palindrome\n",
    "Description: Write a program to check whether a string is a palindrome or not. Print 1 if\n",
    "the string is a palindrome and 0 otherwise."
   ]
  },
  {
   "cell_type": "code",
   "execution_count": 30,
   "id": "36657bbc-7f92-44f9-a551-44b2678708ab",
   "metadata": {},
   "outputs": [
    {
     "name": "stdout",
     "output_type": "stream",
     "text": [
      "dad is palindrome >  1\n",
      "Gopal is not palindrome >  0\n"
     ]
    }
   ],
   "source": [
    "def isPalindrome(input):\n",
    "    input = input.lower()\n",
    "    rev_input = input[::-1]\n",
    "    if input == rev_input:\n",
    "        return 1\n",
    "    else:\n",
    "        return 0\n",
    "\n",
    "\n",
    "print('dad is palindrome > ', isPalindrome('Dad'))\n",
    "print('Gopal is not palindrome > ', isPalindrome('Gopal'))"
   ]
  },
  {
   "cell_type": "raw",
   "id": "a7060a09-92e7-4248-ba23-0095d804305f",
   "metadata": {},
   "source": [
    "Description: You will be given a sentence in the form of a string. You have to reverse the\n",
    "order of the words in the sentence. Remember not to reverse the individual words, but\n",
    "the order of words. Check the sample input-output for further clarification."
   ]
  },
  {
   "cell_type": "code",
   "execution_count": 31,
   "id": "15e8bfd7-8094-4c79-90bd-142a094b6ab9",
   "metadata": {},
   "outputs": [
    {
     "name": "stdout",
     "output_type": "stream",
     "text": [
      "assignment Python is This\n"
     ]
    }
   ],
   "source": [
    "input_str = 'This is Python assignment'\n",
    "\n",
    "arr = input_str.split(' ')\n",
    "reversed_str = '';\n",
    "for st in reversed(arr):\n",
    "    reversed_str += st +' '\n",
    "\n",
    "print(reversed_str.rstrip())"
   ]
  },
  {
   "cell_type": "code",
   "execution_count": 32,
   "id": "b1cb6423-2cda-4d3f-889b-17f735ab25a5",
   "metadata": {},
   "outputs": [
    {
     "name": "stdout",
     "output_type": "stream",
     "text": [
      "calorie_consumed\n",
      "data_science\n",
      "datascience\n"
     ]
    }
   ],
   "source": [
    "def format_str(inp):\n",
    "    arr = inp.split(' ')\n",
    "    output = ''\n",
    "    for data in arr:\n",
    "        output += data.lower()+'_'\n",
    "\n",
    "    return output[0:len(output)-1]\n",
    "\n",
    "print(format_str('caloRie ConsuMed'))\n",
    "print(format_str('data science'))\n",
    "print(format_str('datascience'))"
   ]
  },
  {
   "cell_type": "raw",
   "id": "75a81c4d-9f5c-4b09-8ede-785f4eda0e4b",
   "metadata": {},
   "source": [
    "How will you extract ‘love’ from the string S = “I love Python”? (More than one\n",
    "option may be correct.)."
   ]
  },
  {
   "cell_type": "code",
   "execution_count": 38,
   "id": "39a2d290-046a-472c-97aa-4c79bc3e76a0",
   "metadata": {},
   "outputs": [
    {
     "name": "stdout",
     "output_type": "stream",
     "text": [
      "love\n",
      "love\n"
     ]
    }
   ],
   "source": [
    "S = 'I love Python'\n",
    "print(S[2:6])\n",
    "print(S[-11:-7])"
   ]
  },
  {
   "cell_type": "raw",
   "id": "e4212ea0-cb32-4a80-a084-ead99f1adea3",
   "metadata": {},
   "source": [
    "What will the output of 3 * 3 ** 3 be?"
   ]
  },
  {
   "cell_type": "code",
   "execution_count": 39,
   "id": "1d0daf2b-f06d-4909-af6d-0e2a478dca89",
   "metadata": {},
   "outputs": [
    {
     "name": "stdout",
     "output_type": "stream",
     "text": [
      "81\n"
     ]
    }
   ],
   "source": [
    "print(3*3**3)"
   ]
  },
  {
   "cell_type": "raw",
   "id": "8c96e32d-37c4-49f6-8ecd-ad84c6f4837d",
   "metadata": {},
   "source": [
    "What will the output be of ((500//7) % 5) ** 3?"
   ]
  },
  {
   "cell_type": "code",
   "execution_count": 40,
   "id": "c611943b-b530-4497-8f8b-0f437150b7ab",
   "metadata": {},
   "outputs": [
    {
     "data": {
      "text/plain": [
       "1"
      ]
     },
     "execution_count": 40,
     "metadata": {},
     "output_type": "execute_result"
    }
   ],
   "source": [
    "((500//7) % 5) ** 3"
   ]
  },
  {
   "cell_type": "raw",
   "id": "2efb0c03-0b02-40ae-beaa-2c5f3fb86243",
   "metadata": {},
   "source": [
    "If you have a tuple T = (3, 5, 7, 11), what will the output of T.append(9) be?"
   ]
  },
  {
   "cell_type": "code",
   "execution_count": 41,
   "id": "fb2ece1d-1995-4ea8-9bbf-f722144baa7f",
   "metadata": {},
   "outputs": [
    {
     "ename": "AttributeError",
     "evalue": "'tuple' object has no attribute 'append'",
     "output_type": "error",
     "traceback": [
      "\u001b[1;31m---------------------------------------------------------------------------\u001b[0m",
      "\u001b[1;31mAttributeError\u001b[0m                            Traceback (most recent call last)",
      "\u001b[1;32m~\\AppData\\Local\\Temp/ipykernel_4580/1124551472.py\u001b[0m in \u001b[0;36m<module>\u001b[1;34m\u001b[0m\n\u001b[0;32m      1\u001b[0m \u001b[0mT\u001b[0m \u001b[1;33m=\u001b[0m \u001b[1;33m(\u001b[0m\u001b[1;36m3\u001b[0m\u001b[1;33m,\u001b[0m \u001b[1;36m5\u001b[0m\u001b[1;33m,\u001b[0m \u001b[1;36m7\u001b[0m\u001b[1;33m,\u001b[0m \u001b[1;36m11\u001b[0m\u001b[1;33m)\u001b[0m\u001b[1;33m\u001b[0m\u001b[1;33m\u001b[0m\u001b[0m\n\u001b[1;32m----> 2\u001b[1;33m \u001b[0mT\u001b[0m\u001b[1;33m.\u001b[0m\u001b[0mappend\u001b[0m\u001b[1;33m(\u001b[0m\u001b[1;36m9\u001b[0m\u001b[1;33m)\u001b[0m\u001b[1;33m\u001b[0m\u001b[1;33m\u001b[0m\u001b[0m\n\u001b[0m",
      "\u001b[1;31mAttributeError\u001b[0m: 'tuple' object has no attribute 'append'"
     ]
    }
   ],
   "source": [
    "T = (3, 5, 7, 11)\n",
    "T.append(9)"
   ]
  },
  {
   "cell_type": "code",
   "execution_count": 45,
   "id": "71fcb2f3-7c82-4204-bee3-10b23b5e41ec",
   "metadata": {},
   "outputs": [
    {
     "name": "stdout",
     "output_type": "stream",
     "text": [
      "6\n",
      "[32, 34, 12, 27, 33, (14, 19)]\n"
     ]
    }
   ],
   "source": [
    "l = [32, 34, 12, 27, 33]\n",
    "l.append((14, 19))\n",
    "print(len(l))\n",
    "print(l)"
   ]
  },
  {
   "cell_type": "code",
   "execution_count": 55,
   "id": "fc01ecfd-a1d2-4fc6-916f-c27a5a7a373b",
   "metadata": {},
   "outputs": [
    {
     "name": "stdout",
     "output_type": "stream",
     "text": [
      "1\n",
      "2\n",
      "3\n"
     ]
    }
   ],
   "source": [
    "D = {1:['Raj', 22], 2:['Simran', 21], 3:['Rahul', 40]}\n",
    "for val in D:\n",
    "    print(val)"
   ]
  },
  {
   "cell_type": "code",
   "execution_count": 60,
   "id": "d79cfe1a-5632-4ba2-91b1-0c58ec84790e",
   "metadata": {},
   "outputs": [
    {
     "name": "stdout",
     "output_type": "stream",
     "text": [
      "['T', 'h', 'i', 's', 'i', 's', 'a', 't', 'e', 's', 't', '.', 'W', 'e', 'a', 'r', 'e', 'l', 'e', 'a', 'r', 'n', 'i', 'n', 'g', 'P', 'y', 't', 'h', 'o', 'n', '.']\n"
     ]
    }
   ],
   "source": [
    "paragraph = 'This is a test. We are learning Python.'\n",
    "single_word_list = []\n",
    "for sentence in paragraph:\n",
    "    for word in sentence.split():\n",
    "        single_word_list.append(word)\n",
    "        \n",
    "print(single_word_list)"
   ]
  },
  {
   "cell_type": "code",
   "execution_count": 68,
   "id": "15d77811-73e0-4755-8abe-cd8c01982b39",
   "metadata": {},
   "outputs": [
    {
     "data": {
      "text/plain": [
       "['T',\n",
       " 'h',\n",
       " 'i',\n",
       " 's',\n",
       " 'i',\n",
       " 's',\n",
       " 'a',\n",
       " 't',\n",
       " 'e',\n",
       " 's',\n",
       " 't',\n",
       " '.',\n",
       " 'W',\n",
       " 'e',\n",
       " 'a',\n",
       " 'r',\n",
       " 'e',\n",
       " 'l',\n",
       " 'e',\n",
       " 'a',\n",
       " 'r',\n",
       " 'n',\n",
       " 'i',\n",
       " 'n',\n",
       " 'g',\n",
       " 'P',\n",
       " 'y',\n",
       " 't',\n",
       " 'h',\n",
       " 'o',\n",
       " 'n',\n",
       " '.']"
      ]
     },
     "execution_count": 68,
     "metadata": {},
     "output_type": "execute_result"
    }
   ],
   "source": [
    "[word for sentence in paragraph for word in sentence.split()]"
   ]
  },
  {
   "cell_type": "code",
   "execution_count": 1,
   "id": "4151d56a-d3bd-4ec4-9048-9133fde62539",
   "metadata": {},
   "outputs": [
    {
     "name": "stdout",
     "output_type": "stream",
     "text": [
      "[10, 9, 8, 7, 6, 5, 4, 3, 2]\n"
     ]
    }
   ],
   "source": [
    "print(list(range(10, 1, -1)))"
   ]
  },
  {
   "cell_type": "code",
   "execution_count": null,
   "id": "3077d0a8-eb2a-4ef5-a135-eaf4602ace84",
   "metadata": {},
   "outputs": [],
   "source": []
  }
 ],
 "metadata": {
  "kernelspec": {
   "display_name": "Python 3 (ipykernel)",
   "language": "python",
   "name": "python3"
  },
  "language_info": {
   "codemirror_mode": {
    "name": "ipython",
    "version": 3
   },
   "file_extension": ".py",
   "mimetype": "text/x-python",
   "name": "python",
   "nbconvert_exporter": "python",
   "pygments_lexer": "ipython3",
   "version": "3.8.3"
  }
 },
 "nbformat": 4,
 "nbformat_minor": 5
}
